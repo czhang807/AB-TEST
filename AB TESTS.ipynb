{
 "cells": [
  {
   "cell_type": "markdown",
   "metadata": {},
   "source": [
    "# A/B TEST Project\n",
    "\n",
    "Chi Zhang"
   ]
  },
  {
   "cell_type": "markdown",
   "metadata": {},
   "source": [
    "## Introduction to A/B Test and Background"
   ]
  },
  {
   "cell_type": "markdown",
   "metadata": {},
   "source": [
    "A/B tests are controlled experiments that run one or more variations against the original control group. It's Often used online to test a feature and see how users respond differently. This project comes from an online course presented by Google, and the course teaches how to pick and characterize metrics for the test, design experiments with required statistical power, conduct results analysis and provide recommnedation."
   ]
  },
  {
   "cell_type": "markdown",
   "metadata": {},
   "source": [
    "## Project Introduction"
   ]
  },
  {
   "cell_type": "markdown",
   "metadata": {},
   "source": [
    "### Initial Setup"
   ]
  },
  {
   "cell_type": "markdown",
   "metadata": {},
   "source": [
    "Currently, Udacity, an online learning platform, has two options on its course overview page. One is \" Start Free Trail\", and the other one is \" Access Course Materials\". If someone chooses the first option, they will be asked to enter their credit card information and automatically charged after 14 days if not cancelled until then. If someone chooses the second option, they will be able to view materials for free, but without the support from the coaching staff. "
   ]
  },
  {
   "cell_type": "markdown",
   "metadata": {},
   "source": [
    "### Experimental Change "
   ]
  },
  {
   "cell_type": "markdown",
   "metadata": {},
   "source": [
    "If someone clicks \"start Free Trail\", they will then be asked how many hours they will devote to this course. If the student is able to commit 5 or more hours per week, they would be taken through the checkout process as usual. Otherwise, they will be suggested to access the materials for free. Then, it's the student's choice to continue enrolling in the course or access the materials for free instead. "
   ]
  },
  {
   "cell_type": "markdown",
   "metadata": {},
   "source": [
    "### Hypothesis"
   ]
  },
  {
   "cell_type": "markdown",
   "metadata": {},
   "source": [
    "Null Hypothsis: the change will not affect students enrollment behaviros and further improve the overall student experience and improve coaches' capacity to support students who are likely to complete the course.\n",
    "\n",
    "Alternative:  The change will reduce the number of frustrated students who left the free trial because they didn't have enough time without significantly reducing the number of students to continue past the free trial and eventually complete the course."
   ]
  },
  {
   "cell_type": "markdown",
   "metadata": {},
   "source": [
    "### Additional information"
   ]
  },
  {
   "cell_type": "markdown",
   "metadata": {},
   "source": [
    "Unit of diversion: cookie\n",
    "For studnets enrolled in the free trail, they are tracked by user-id going forward. "
   ]
  },
  {
   "cell_type": "markdown",
   "metadata": {},
   "source": [
    "## Experiment Design"
   ]
  },
  {
   "cell_type": "markdown",
   "metadata": {},
   "source": [
    "### Metric Choice"
   ]
  },
  {
   "cell_type": "markdown",
   "metadata": {},
   "source": [
    "For each metric provided, I justify wheather to use it as an invariate or evaluation metric. \n",
    "Invariate metrics are used to check if the test is inherently wrong as a part of sanity check. Thus, invariate metrics are not expected to change in both control and experiment groups.\n",
    "Evaludation metrics are used to indicate whether we achieve the goal of the test. Thus, we expect a change between control and experiment groups, and the dmin here indicates the practical significance level of that metric. "
   ]
  },
  {
   "cell_type": "markdown",
   "metadata": {},
   "source": [
    "Number of cookies: number of unique cookies to view the course overview page. (dmin=3000)\n",
    "Invariant. Because this metric will not be affected by the experiment, and we are likely to have  \n",
    "the same numbers of cookies in both control and experiment groups. \n",
    "\n",
    "Number of user-ids: number of users who enroll in the free trial. (dmin=50)\n",
    "Neither. Number of users enrolled in the free trial will not be the same for both control and experiment groups, thus I did not use it as an invariant metric. As for evaluation metric, this metrics is not normalized to indicate whether there is a reduction for the number of students who did not have enough time. Thus, I did not pick this for evaluation metric. \n",
    "\n",
    "Number of clicks: number of unique cookies to click the \"Start free trial\" button (which happens before the free trial screener is trigger). (dmin=240)\n",
    "Invariant. Because number of unique cookies to click the button is determined before the test, and the number are likely to be the same for both groups. Thus I choose this as a invariant metric. \n",
    "\n",
    "Click-through-probability: number of unique cookies to click the \"Start free trial\" button divided by number of unique cookies to view the course overview page. (dmin=0.01)\n",
    "Invariant. Similar to number of clicks, the click through probability describes the conditions before the test, thus click through probability will be the same for both groups. \n",
    "\n",
    "Gross conversion: number of user-ids to complete checkout and enroll in the free trial divided by number of unique cookies to click the \"Start free trial\" button. (dmin= 0.01)\n",
    "Evaluation. To achieve the goal of reducing frustrated students with limited time, I expect the gross conversion to decrease, and the practical significance level is 0.01. \n",
    "\n",
    "Retention: number of user-ids to remain enrolled past the 14-day boundary (and thus make at least one payment) divided by number of user-ids to complete checkout. (dmin=0.01)\n",
    "Evaluation. I expect to see an increased retention and pick this metric for evaluation because it indicates the effectiveness of the change.\n",
    "\n",
    "Net conversion: number of user-ids to remain enrolled past the 14-day boundary (and thus make at least one payment) divided by the number of unique cookies to click the \"Start free trial\" button. (dmin= 0.0075)\n",
    "Evaluation. Relating to the goal of allocating coaching resources more effectively, I expect to see a slightly increased net conversion and the practical significance level is 0.0075. \n",
    "\n",
    "To conclude:\n",
    "Invariant metrics: No. of cookies, No. of clicks, click through probability\n",
    "Evaluation metrics: gross conversion, net conversion, retention\n"
   ]
  },
  {
   "cell_type": "markdown",
   "metadata": {},
   "source": [
    "### Baseline value of each metric"
   ]
  },
  {
   "cell_type": "code",
   "execution_count": 16,
   "metadata": {},
   "outputs": [],
   "source": [
    "# Baseline values are provided by Udacity, \n",
    "# and I will store the estimates of invariant and evaludation metrics in a dictionary\n",
    "baseline_values = {\"No_Cookies\":40000, \"No_Clicks\":3200,\"CTP\":0.08,\"Gross_Conversion\":0.20625,\n",
    "                   \"Retention\":0.53,\"Net_Conversion\":0.109313}"
   ]
  },
  {
   "cell_type": "markdown",
   "metadata": {},
   "source": [
    "### Measuring Standard Deviation\n",
    "\n",
    "Given those baseline values, I then estimate the standard deviation of the sample distribution for the evaluation metrics. For a sample size of 5000 cookies visiting the course overview page, I produce an analytic estimate of SD assuming the sample distributions of evaluation metrics are binomial. \n",
    "\n",
    "In addition, the analytic estimate are comparable to the empirical variability when the unit of diversion (how samples are differentiated and assinged to each group) of the experiment is equal to the unit of analysis which is the denominator of the possibility metrics. Otherwise, we will ned to compute the variability empirically. \n",
    "\n",
    "We calculate the variability of evaludation metrics analytically becuase the metrics vary too much, the practical significance we look for may not be feasible. "
   ]
  },
  {
   "cell_type": "code",
   "execution_count": 17,
   "metadata": {},
   "outputs": [
    {
     "data": {
      "text/plain": [
       "0.020230604137049392"
      ]
     },
     "execution_count": 17,
     "metadata": {},
     "output_type": "execute_result"
    }
   ],
   "source": [
    "import math\n",
    "# Measuring SD\n",
    "# gross conversion \n",
    "p = baseline_values['Gross_Conversion']\n",
    "prop = 3200/40000\n",
    "n = prop*5000 # sample size \n",
    "SD_gc = math.sqrt(p*(1-p)/n) # formula for SD\n",
    "SD_gc"
   ]
  },
  {
   "cell_type": "code",
   "execution_count": 9,
   "metadata": {},
   "outputs": [
    {
     "data": {
      "text/plain": [
       "0.015601575884425905"
      ]
     },
     "execution_count": 9,
     "metadata": {},
     "output_type": "execute_result"
    }
   ],
   "source": [
    "# net conversion \n",
    "p = baseline_values['Net_Conversion']\n",
    "prop = 3200/40000\n",
    "n = prop*5000\n",
    "SD_nc = math.sqrt(p*(1-p)/n) \n",
    "SD_nc"
   ]
  },
  {
   "cell_type": "code",
   "execution_count": 5,
   "metadata": {},
   "outputs": [
    {
     "data": {
      "text/plain": [
       "0.05494901217850908"
      ]
     },
     "execution_count": 5,
     "metadata": {},
     "output_type": "execute_result"
    }
   ],
   "source": [
    "# retention \n",
    "p = baseline_values['Retention']\n",
    "prop = 660/40000\n",
    "n = prop*5000\n",
    "SD_re = math.sqrt(p*(1-p)/n)\n",
    "SD_re"
   ]
  },
  {
   "cell_type": "markdown",
   "metadata": {},
   "source": [
    "In conclusion, I expect gross conversion and net conversion to be comparable to the empirical variability because unit of analysis here is the same as unit of diversion. Whereas they are not the same in the retention case. "
   ]
  },
  {
   "cell_type": "markdown",
   "metadata": {},
   "source": [
    "### Sizing\n",
    "\n",
    "Determination of the sample size is fundamental in AB test. Next, I will use the basedline values and variability of the metrics to calculate the size of the experiment given the statistical power and significance level. \n",
    "\n",
    "I was asked to estimate the number of pageviews/samples needed for both groups given that alpha = 0.05 and beta = 0.2. "
   ]
  },
  {
   "cell_type": "code",
   "execution_count": 30,
   "metadata": {},
   "outputs": [],
   "source": [
    "# first approach: use online sample size calculation tool\n",
    "# link of the tool: https://www.evanmiller.org/ab-testing/sample-size.html\n",
    "# takes parameters alpha, beta, baseline conversion and dmin\n",
    "\n",
    "online_results = {\"Gross_Conversion\":25835, \"Net_Conversion\": 27413,  \"Retention\": 39115}\n"
   ]
  },
  {
   "cell_type": "markdown",
   "metadata": {},
   "source": [
    "Next, I will calculate sample size for each metric based on the online calculation results. I will condiser the duration of the test and then pick the largest sample size given by the metrics\n"
   ]
  },
  {
   "cell_type": "code",
   "execution_count": 31,
   "metadata": {},
   "outputs": [
    {
     "data": {
      "text/plain": [
       "645875"
      ]
     },
     "execution_count": 31,
     "metadata": {},
     "output_type": "execute_result"
    }
   ],
   "source": [
    "# For Gross Conversion, online calculation gives that we need at least 25835 clicks for each group. \n",
    "# TO get the sample size for pageview:\n",
    "prop = 3200/40000\n",
    "page_views_gc = round(online_results['Gross_Conversion']/prop*2)\n",
    "page_views_gc"
   ]
  },
  {
   "cell_type": "code",
   "execution_count": 32,
   "metadata": {},
   "outputs": [
    {
     "data": {
      "text/plain": [
       "685325"
      ]
     },
     "execution_count": 32,
     "metadata": {},
     "output_type": "execute_result"
    }
   ],
   "source": [
    "# For Net Conversion\n",
    "prop = 3200/40000\n",
    "page_views_nc = round(online_results['Net_Conversion']/prop*2)\n",
    "page_views_nc"
   ]
  },
  {
   "cell_type": "code",
   "execution_count": 33,
   "metadata": {},
   "outputs": [
    {
     "data": {
      "text/plain": [
       "4741212"
      ]
     },
     "execution_count": 33,
     "metadata": {},
     "output_type": "execute_result"
    }
   ],
   "source": [
    "# For Retention \n",
    "prop = 660/40000\n",
    "page_views_re = round(online_results['Retention']/prop*2)\n",
    "page_views_re"
   ]
  },
  {
   "cell_type": "markdown",
   "metadata": {},
   "source": [
    "As a result, retention needs over 4700000 pageviews, and the estimate traffic per day is 40000. The duration of the test would be too long, thus I will drop the retention metric. Therefore, 685325 is the sample size I will use. Depending on how much data I collect per day, the duration may vary. if 50% of traffic would be diverted to this experiment, then it will take 34 days to run the experiment. "
   ]
  },
  {
   "cell_type": "code",
   "execution_count": 19,
   "metadata": {},
   "outputs": [],
   "source": [
    "# second approach: calculate z score using alpha, then loop through Ns to compute and compare beta using dmin, \n",
    "# standard deviation of sampling distrbution \n",
    "from scipy.stats import norm"
   ]
  },
  {
   "cell_type": "code",
   "execution_count": 26,
   "metadata": {},
   "outputs": [],
   "source": [
    "def get_z_score(alpha_value):\n",
    "    z = norm.ppf(alpha_value/2)\n",
    "    return -z"
   ]
  },
  {
   "cell_type": "code",
   "execution_count": 19,
   "metadata": {},
   "outputs": [],
   "source": [
    "def get_beta(z_star, s, d_min, N):\n",
    "    SE = s / math.sqrt(N)\n",
    "    return(norm.cdf(z_star * SE, loc=d_min, scale=SE))"
   ]
  },
  {
   "cell_type": "code",
   "execution_count": 20,
   "metadata": {},
   "outputs": [],
   "source": [
    "def get_size(s, d_min, Ns=20000, alpha=0.05, beta=0.2):\n",
    "    for i in range (1, Ns):\n",
    "        if get_beta(get_z_score(alpha), s, d_min, i) <= beta:\n",
    "            return i"
   ]
  },
  {
   "cell_type": "markdown",
   "metadata": {},
   "source": [
    "## Experiment Analysis\n",
    "\n",
    "Given the data for each two groups, below is the data dictionary:\n",
    "\n",
    "    Pageviews: Number of unique cookies to view the course overview page that day.\n",
    "\n",
    "    Clicks: Number of unique cookies to click the course overview page that day.\n",
    "\n",
    "    Enrollments: Number of user-ids to enroll in the free trial that day.\n",
    "\n",
    "    Payments: Number of user-ids who who enrolled on that day to remain enrolled for 14 days and thus make a payment. (Note that the date for this column is the start date, that is, the date of enrollment, rather than the date of the payment. The payment happened 14 days later. Because of this, the enrollments and payments are tracked for 14 fewer days than the other columns.)"
   ]
  },
  {
   "cell_type": "code",
   "execution_count": 5,
   "metadata": {},
   "outputs": [],
   "source": [
    "import pandas as pd\n",
    "# read in the data\n",
    "\n",
    "df_c = pd.read_excel('Final Project Results.xlsx', sheet_name = 'Control')\n",
    "df_e = pd.read_excel('Final Project Results.xlsx', sheet_name = 'Experiment')"
   ]
  },
  {
   "cell_type": "markdown",
   "metadata": {},
   "source": [
    "### Sanity Check of invariant metrics\n",
    "\n",
    "Sanity check is used to ensure that data is collected correctly and other factors will not affect the experienment as expected. As mentioned above, there are 3 invariant metrics I identified, and here I will use two different approaches (difference btw counts & difference btw probabilities) to complete the sanity check. "
   ]
  },
  {
   "cell_type": "code",
   "execution_count": 22,
   "metadata": {},
   "outputs": [
    {
     "name": "stdout",
     "output_type": "stream",
     "text": [
      "The actual proportion of number of cookies in the experiment group 0.4994\n",
      "The 95% confidence interval is bewteen 0.4988 and 0.5012\n"
     ]
    }
   ],
   "source": [
    "# First metric: Number of cookies for pageviews\n",
    "# we should expect the sum of the count of pageviews to be the same; \n",
    "# if not, the experiment will be biased and I will not contitnue\n",
    "# For count/sum metrics like this, we can define a binomial distrbution \n",
    "# where number of samples assigned to each group has a probability of 0.5, then we assume a normal distribution \n",
    "# due to CLT with a mean of 0.5 and SD sqrt(p(1-p)/N)\n",
    "# lastly, we test if the actual proportion of number of cookies is in the 95% confidence interval\n",
    "\n",
    "def get_z_score(alpha_value):\n",
    "    z = norm.ppf(alpha_value/2)\n",
    "    return -z\n",
    "\n",
    "pageviews_total = df_c['Pageviews'].sum() + df_e['Pageviews'].sum()\n",
    "p_actual = round(df_e['Pageviews'].sum()/pageviews_total, 4)\n",
    "print('The actual proportion of number of cookies in the experiment group '+ str(p_actual))\n",
    "\n",
    "p = 0.5\n",
    "alpha = 0.05\n",
    "SD = math.sqrt(p*(1-p)/pageviews_total)\n",
    "z_score = get_z_score(alpha)\n",
    "CI_upper = round(0.5 + z_score*SD, 4)\n",
    "CI_lower = round(0.5 - z_score*SD, 4)\n",
    "\n",
    "print('The 95% confidence interval is bewteen '+ str(CI_lower) + ' and ' +  str(CI_upper))\n",
    "\n",
    "# Number of cookies passed the sanity check. "
   ]
  },
  {
   "cell_type": "code",
   "execution_count": 24,
   "metadata": {},
   "outputs": [
    {
     "name": "stdout",
     "output_type": "stream",
     "text": [
      "The actual proportion of number of clicks in the experiment group 0.4995\n",
      "The 95% confidence interval is bewteen 0.4959 and 0.5041\n"
     ]
    }
   ],
   "source": [
    "# Second Metric: Number of clicks \n",
    "\n",
    "clicks_total = df_c['Clicks'].sum() + df_e['Clicks'].sum()\n",
    "p_actual = round(df_e['Clicks'].sum()/clicks_total, 4)\n",
    "print('The actual proportion of number of clicks in the experiment group '+ str(p_actual))\n",
    "\n",
    "SD_click = math.sqrt(p*(1-p)/clicks_total)\n",
    "CI_upper = round(0.5 + z_score*SD_click, 4)\n",
    "CI_lower = round(0.5 - z_score*SD_click, 4)\n",
    "\n",
    "print('The 95% confidence interval is bewteen '+ str(CI_lower) + ' and ' +  str(CI_upper))\n",
    "\n",
    "# Number of clicks passed the sanity check. "
   ]
  },
  {
   "cell_type": "code",
   "execution_count": 27,
   "metadata": {},
   "outputs": [
    {
     "name": "stdout",
     "output_type": "stream",
     "text": [
      "The 95% confidence interval for the difference is bewteen -0.0013 and 0.0013\n",
      "The actual difference of CTP between two groups -0.0001\n"
     ]
    }
   ],
   "source": [
    "# Third Metric: CTP\n",
    "# To test whether there is a significant difference of CTP between the control and experiment groups, \n",
    "# We calculate pooled standard error\n",
    "\n",
    "p_pool = clicks_total/pageviews_total\n",
    "SD_pool = math.sqrt(p_pool*(1-p_pool)*(1/df_c['Pageviews'].sum()+1/df_e['Pageviews'].sum()))\n",
    "CI_upper = round(0 + z_score*SD_pool, 4)\n",
    "CI_lower = round(0 - z_score*SD_pool, 4)\n",
    "\n",
    "print('The 95% confidence interval for the difference is bewteen '+ str(CI_lower) + ' and ' +  str(CI_upper))\n",
    "\n",
    "CTP_control = df_c['Clicks'].sum()/df_c['Pageviews'].sum()\n",
    "CTP_experiment = df_e['Clicks'].sum()/df_e['Pageviews'].sum()\n",
    "CTP_diff = round(CTP_control - CTP_experiment, 4)\n",
    "\n",
    "print('The actual difference of CTP between two groups '+ str(CTP_diff))\n",
    "\n",
    "# CTP passed the sanity check. "
   ]
  },
  {
   "cell_type": "markdown",
   "metadata": {},
   "source": [
    "## Results Analysis"
   ]
  },
  {
   "cell_type": "markdown",
   "metadata": {},
   "source": [
    "### Effect Size Tests\n",
    "For each of the evaluation metrics, we will calculate a 95% confidence interval around the difference between the experiment and control groups and indicate whether each metric is statistically and practically significant."
   ]
  },
  {
   "cell_type": "code",
   "execution_count": 37,
   "metadata": {},
   "outputs": [
    {
     "name": "stdout",
     "output_type": "stream",
     "text": [
      "The difference of gross conversion between two groups is -0.0206\n",
      "The 95% confidence interval for the difference is bewteen -0.0292 and -0.012\n"
     ]
    }
   ],
   "source": [
    "## Gross Conversion again is defined as number of enrollments over number of clicks \n",
    "\n",
    "new_c = df_c[df_c['Enrollments'].isna() == False] # delete the days where there are not enrollments \n",
    "new_e = df_e[df_e['Enrollments'].isna() == False]\n",
    "\n",
    "GC_c = new_c['Enrollments'].sum() / new_c['Clicks'].sum()\n",
    "GC_e = new_e['Enrollments'].sum() / new_e['Clicks'].sum()\n",
    "diff_actual = round(GC_e - GC_c, 4)\n",
    "print('The difference of gross conversion between two groups is ' + str(diff_actual))\n",
    "\n",
    "GC_pool = (new_c['Enrollments'].sum() + new_e['Enrollments'].sum())/(new_c['Clicks'].sum() + new_e['Clicks'].sum())\n",
    "SD_pool = math.sqrt(GC_pool*(1-GC_pool)*(1/new_c['Clicks'].sum()+1/new_e['Clicks'].sum()))\n",
    "\n",
    "CI_upper = round(diff_actual + z_score*SD_pool, 4)\n",
    "CI_lower = round(diff_actual  - z_score*SD_pool, 4)\n",
    "print('The 95% confidence interval for the difference is bewteen '+ str(CI_lower) + ' and ' +  str(CI_upper))"
   ]
  },
  {
   "cell_type": "markdown",
   "metadata": {},
   "source": [
    "Based on the results above, the range from -0.012 to -0.0292 deso not include neither 0 or dmin, which means the change is both statistically and practically significant. we see a significant decrease in gross conversion as expected. "
   ]
  },
  {
   "cell_type": "code",
   "execution_count": 38,
   "metadata": {},
   "outputs": [
    {
     "name": "stdout",
     "output_type": "stream",
     "text": [
      "The difference of net conversion between two groups is -0.0049\n",
      "The 95% confidence interval for the difference is bewteen -0.0116 and 0.0018\n"
     ]
    }
   ],
   "source": [
    "## Net Conversion is defined as number of payments divided by the number of clicks. (dmin= 0.0075)\n",
    "\n",
    "NC_c = new_c['Payments'].sum() / new_c['Clicks'].sum()\n",
    "NC_e = new_e['Payments'].sum() / new_e['Clicks'].sum()\n",
    "diff_actual = round(NC_e - NC_c, 4)\n",
    "print('The difference of net conversion between two groups is ' + str(diff_actual))\n",
    "\n",
    "NC_pool = (new_c['Payments'].sum() + new_e['Payments'].sum())/(new_c['Clicks'].sum() + new_e['Clicks'].sum())\n",
    "SD_pool = math.sqrt(NC_pool*(1-NC_pool)*(1/new_c['Clicks'].sum()+1/new_e['Clicks'].sum()))\n",
    "\n",
    "CI_upper = round(diff_actual + z_score*SD_pool, 4)\n",
    "CI_lower = round(diff_actual  - z_score*SD_pool, 4)\n",
    "print('The 95% confidence interval for the difference is bewteen '+ str(CI_lower) + ' and ' +  str(CI_upper))"
   ]
  },
  {
   "cell_type": "markdown",
   "metadata": {},
   "source": [
    "Becuase 0 and dmin:-0.0075 is in the range, the change here is neither statistically significant nor practically significant. "
   ]
  },
  {
   "cell_type": "markdown",
   "metadata": {},
   "source": [
    "### Sign Tests\n",
    "\n",
    "For each of your evaluation metrics, we will conduct a sign test using the day-by-day data, and report the p-value of the sign test and whether the result is statistically significant. "
   ]
  },
  {
   "cell_type": "code",
   "execution_count": 48,
   "metadata": {},
   "outputs": [
    {
     "data": {
      "text/html": [
       "<div>\n",
       "<style scoped>\n",
       "    .dataframe tbody tr th:only-of-type {\n",
       "        vertical-align: middle;\n",
       "    }\n",
       "\n",
       "    .dataframe tbody tr th {\n",
       "        vertical-align: top;\n",
       "    }\n",
       "\n",
       "    .dataframe thead th {\n",
       "        text-align: right;\n",
       "    }\n",
       "</style>\n",
       "<table border=\"1\" class=\"dataframe\">\n",
       "  <thead>\n",
       "    <tr style=\"text-align: right;\">\n",
       "      <th></th>\n",
       "      <th>Date</th>\n",
       "      <th>Pageviews_c</th>\n",
       "      <th>Clicks_c</th>\n",
       "      <th>Enrollments_c</th>\n",
       "      <th>Payments_c</th>\n",
       "      <th>Pageviews_e</th>\n",
       "      <th>Clicks_e</th>\n",
       "      <th>Enrollments_e</th>\n",
       "      <th>Payments_e</th>\n",
       "      <th>Sign_gc</th>\n",
       "    </tr>\n",
       "  </thead>\n",
       "  <tbody>\n",
       "    <tr>\n",
       "      <th>0</th>\n",
       "      <td>Sat, Oct 11</td>\n",
       "      <td>7723</td>\n",
       "      <td>687</td>\n",
       "      <td>134.0</td>\n",
       "      <td>70.0</td>\n",
       "      <td>7716</td>\n",
       "      <td>686</td>\n",
       "      <td>105.0</td>\n",
       "      <td>34.0</td>\n",
       "      <td>1</td>\n",
       "    </tr>\n",
       "    <tr>\n",
       "      <th>1</th>\n",
       "      <td>Sun, Oct 12</td>\n",
       "      <td>9102</td>\n",
       "      <td>779</td>\n",
       "      <td>147.0</td>\n",
       "      <td>70.0</td>\n",
       "      <td>9288</td>\n",
       "      <td>785</td>\n",
       "      <td>116.0</td>\n",
       "      <td>91.0</td>\n",
       "      <td>1</td>\n",
       "    </tr>\n",
       "    <tr>\n",
       "      <th>2</th>\n",
       "      <td>Mon, Oct 13</td>\n",
       "      <td>10511</td>\n",
       "      <td>909</td>\n",
       "      <td>167.0</td>\n",
       "      <td>95.0</td>\n",
       "      <td>10480</td>\n",
       "      <td>884</td>\n",
       "      <td>145.0</td>\n",
       "      <td>79.0</td>\n",
       "      <td>1</td>\n",
       "    </tr>\n",
       "    <tr>\n",
       "      <th>3</th>\n",
       "      <td>Tue, Oct 14</td>\n",
       "      <td>9871</td>\n",
       "      <td>836</td>\n",
       "      <td>156.0</td>\n",
       "      <td>105.0</td>\n",
       "      <td>9867</td>\n",
       "      <td>827</td>\n",
       "      <td>138.0</td>\n",
       "      <td>92.0</td>\n",
       "      <td>1</td>\n",
       "    </tr>\n",
       "    <tr>\n",
       "      <th>4</th>\n",
       "      <td>Wed, Oct 15</td>\n",
       "      <td>10014</td>\n",
       "      <td>837</td>\n",
       "      <td>163.0</td>\n",
       "      <td>64.0</td>\n",
       "      <td>9793</td>\n",
       "      <td>832</td>\n",
       "      <td>140.0</td>\n",
       "      <td>94.0</td>\n",
       "      <td>1</td>\n",
       "    </tr>\n",
       "    <tr>\n",
       "      <th>5</th>\n",
       "      <td>Thu, Oct 16</td>\n",
       "      <td>9670</td>\n",
       "      <td>823</td>\n",
       "      <td>138.0</td>\n",
       "      <td>82.0</td>\n",
       "      <td>9500</td>\n",
       "      <td>788</td>\n",
       "      <td>129.0</td>\n",
       "      <td>61.0</td>\n",
       "      <td>1</td>\n",
       "    </tr>\n",
       "    <tr>\n",
       "      <th>6</th>\n",
       "      <td>Fri, Oct 17</td>\n",
       "      <td>9008</td>\n",
       "      <td>748</td>\n",
       "      <td>146.0</td>\n",
       "      <td>76.0</td>\n",
       "      <td>9088</td>\n",
       "      <td>780</td>\n",
       "      <td>127.0</td>\n",
       "      <td>44.0</td>\n",
       "      <td>1</td>\n",
       "    </tr>\n",
       "    <tr>\n",
       "      <th>7</th>\n",
       "      <td>Sat, Oct 18</td>\n",
       "      <td>7434</td>\n",
       "      <td>632</td>\n",
       "      <td>110.0</td>\n",
       "      <td>70.0</td>\n",
       "      <td>7664</td>\n",
       "      <td>652</td>\n",
       "      <td>94.0</td>\n",
       "      <td>62.0</td>\n",
       "      <td>1</td>\n",
       "    </tr>\n",
       "    <tr>\n",
       "      <th>8</th>\n",
       "      <td>Sun, Oct 19</td>\n",
       "      <td>8459</td>\n",
       "      <td>691</td>\n",
       "      <td>131.0</td>\n",
       "      <td>60.0</td>\n",
       "      <td>8434</td>\n",
       "      <td>697</td>\n",
       "      <td>120.0</td>\n",
       "      <td>77.0</td>\n",
       "      <td>1</td>\n",
       "    </tr>\n",
       "    <tr>\n",
       "      <th>9</th>\n",
       "      <td>Mon, Oct 20</td>\n",
       "      <td>10667</td>\n",
       "      <td>861</td>\n",
       "      <td>165.0</td>\n",
       "      <td>97.0</td>\n",
       "      <td>10496</td>\n",
       "      <td>860</td>\n",
       "      <td>153.0</td>\n",
       "      <td>98.0</td>\n",
       "      <td>1</td>\n",
       "    </tr>\n",
       "    <tr>\n",
       "      <th>10</th>\n",
       "      <td>Tue, Oct 21</td>\n",
       "      <td>10660</td>\n",
       "      <td>867</td>\n",
       "      <td>196.0</td>\n",
       "      <td>105.0</td>\n",
       "      <td>10551</td>\n",
       "      <td>864</td>\n",
       "      <td>143.0</td>\n",
       "      <td>71.0</td>\n",
       "      <td>1</td>\n",
       "    </tr>\n",
       "    <tr>\n",
       "      <th>11</th>\n",
       "      <td>Wed, Oct 22</td>\n",
       "      <td>9947</td>\n",
       "      <td>838</td>\n",
       "      <td>162.0</td>\n",
       "      <td>92.0</td>\n",
       "      <td>9737</td>\n",
       "      <td>801</td>\n",
       "      <td>128.0</td>\n",
       "      <td>70.0</td>\n",
       "      <td>1</td>\n",
       "    </tr>\n",
       "    <tr>\n",
       "      <th>12</th>\n",
       "      <td>Thu, Oct 23</td>\n",
       "      <td>8324</td>\n",
       "      <td>665</td>\n",
       "      <td>127.0</td>\n",
       "      <td>56.0</td>\n",
       "      <td>8176</td>\n",
       "      <td>642</td>\n",
       "      <td>122.0</td>\n",
       "      <td>68.0</td>\n",
       "      <td>1</td>\n",
       "    </tr>\n",
       "    <tr>\n",
       "      <th>13</th>\n",
       "      <td>Fri, Oct 24</td>\n",
       "      <td>9434</td>\n",
       "      <td>673</td>\n",
       "      <td>220.0</td>\n",
       "      <td>122.0</td>\n",
       "      <td>9402</td>\n",
       "      <td>697</td>\n",
       "      <td>194.0</td>\n",
       "      <td>94.0</td>\n",
       "      <td>1</td>\n",
       "    </tr>\n",
       "    <tr>\n",
       "      <th>14</th>\n",
       "      <td>Sat, Oct 25</td>\n",
       "      <td>8687</td>\n",
       "      <td>691</td>\n",
       "      <td>176.0</td>\n",
       "      <td>128.0</td>\n",
       "      <td>8669</td>\n",
       "      <td>669</td>\n",
       "      <td>127.0</td>\n",
       "      <td>81.0</td>\n",
       "      <td>1</td>\n",
       "    </tr>\n",
       "    <tr>\n",
       "      <th>15</th>\n",
       "      <td>Sun, Oct 26</td>\n",
       "      <td>8896</td>\n",
       "      <td>708</td>\n",
       "      <td>161.0</td>\n",
       "      <td>104.0</td>\n",
       "      <td>8881</td>\n",
       "      <td>693</td>\n",
       "      <td>153.0</td>\n",
       "      <td>101.0</td>\n",
       "      <td>1</td>\n",
       "    </tr>\n",
       "    <tr>\n",
       "      <th>16</th>\n",
       "      <td>Mon, Oct 27</td>\n",
       "      <td>9535</td>\n",
       "      <td>759</td>\n",
       "      <td>233.0</td>\n",
       "      <td>124.0</td>\n",
       "      <td>9655</td>\n",
       "      <td>771</td>\n",
       "      <td>213.0</td>\n",
       "      <td>119.0</td>\n",
       "      <td>1</td>\n",
       "    </tr>\n",
       "    <tr>\n",
       "      <th>17</th>\n",
       "      <td>Tue, Oct 28</td>\n",
       "      <td>9363</td>\n",
       "      <td>736</td>\n",
       "      <td>154.0</td>\n",
       "      <td>91.0</td>\n",
       "      <td>9396</td>\n",
       "      <td>736</td>\n",
       "      <td>162.0</td>\n",
       "      <td>120.0</td>\n",
       "      <td>0</td>\n",
       "    </tr>\n",
       "    <tr>\n",
       "      <th>18</th>\n",
       "      <td>Wed, Oct 29</td>\n",
       "      <td>9327</td>\n",
       "      <td>739</td>\n",
       "      <td>196.0</td>\n",
       "      <td>86.0</td>\n",
       "      <td>9262</td>\n",
       "      <td>727</td>\n",
       "      <td>201.0</td>\n",
       "      <td>96.0</td>\n",
       "      <td>0</td>\n",
       "    </tr>\n",
       "    <tr>\n",
       "      <th>19</th>\n",
       "      <td>Thu, Oct 30</td>\n",
       "      <td>9345</td>\n",
       "      <td>734</td>\n",
       "      <td>167.0</td>\n",
       "      <td>75.0</td>\n",
       "      <td>9308</td>\n",
       "      <td>728</td>\n",
       "      <td>207.0</td>\n",
       "      <td>67.0</td>\n",
       "      <td>0</td>\n",
       "    </tr>\n",
       "    <tr>\n",
       "      <th>20</th>\n",
       "      <td>Fri, Oct 31</td>\n",
       "      <td>8890</td>\n",
       "      <td>706</td>\n",
       "      <td>174.0</td>\n",
       "      <td>101.0</td>\n",
       "      <td>8715</td>\n",
       "      <td>722</td>\n",
       "      <td>182.0</td>\n",
       "      <td>123.0</td>\n",
       "      <td>0</td>\n",
       "    </tr>\n",
       "    <tr>\n",
       "      <th>21</th>\n",
       "      <td>Sat, Nov 1</td>\n",
       "      <td>8460</td>\n",
       "      <td>681</td>\n",
       "      <td>156.0</td>\n",
       "      <td>93.0</td>\n",
       "      <td>8448</td>\n",
       "      <td>695</td>\n",
       "      <td>142.0</td>\n",
       "      <td>100.0</td>\n",
       "      <td>1</td>\n",
       "    </tr>\n",
       "    <tr>\n",
       "      <th>22</th>\n",
       "      <td>Sun, Nov 2</td>\n",
       "      <td>8836</td>\n",
       "      <td>693</td>\n",
       "      <td>206.0</td>\n",
       "      <td>67.0</td>\n",
       "      <td>8836</td>\n",
       "      <td>724</td>\n",
       "      <td>182.0</td>\n",
       "      <td>103.0</td>\n",
       "      <td>1</td>\n",
       "    </tr>\n",
       "  </tbody>\n",
       "</table>\n",
       "</div>"
      ],
      "text/plain": [
       "           Date  Pageviews_c  Clicks_c  Enrollments_c  Payments_c  \\\n",
       "0   Sat, Oct 11         7723       687          134.0        70.0   \n",
       "1   Sun, Oct 12         9102       779          147.0        70.0   \n",
       "2   Mon, Oct 13        10511       909          167.0        95.0   \n",
       "3   Tue, Oct 14         9871       836          156.0       105.0   \n",
       "4   Wed, Oct 15        10014       837          163.0        64.0   \n",
       "5   Thu, Oct 16         9670       823          138.0        82.0   \n",
       "6   Fri, Oct 17         9008       748          146.0        76.0   \n",
       "7   Sat, Oct 18         7434       632          110.0        70.0   \n",
       "8   Sun, Oct 19         8459       691          131.0        60.0   \n",
       "9   Mon, Oct 20        10667       861          165.0        97.0   \n",
       "10  Tue, Oct 21        10660       867          196.0       105.0   \n",
       "11  Wed, Oct 22         9947       838          162.0        92.0   \n",
       "12  Thu, Oct 23         8324       665          127.0        56.0   \n",
       "13  Fri, Oct 24         9434       673          220.0       122.0   \n",
       "14  Sat, Oct 25         8687       691          176.0       128.0   \n",
       "15  Sun, Oct 26         8896       708          161.0       104.0   \n",
       "16  Mon, Oct 27         9535       759          233.0       124.0   \n",
       "17  Tue, Oct 28         9363       736          154.0        91.0   \n",
       "18  Wed, Oct 29         9327       739          196.0        86.0   \n",
       "19  Thu, Oct 30         9345       734          167.0        75.0   \n",
       "20  Fri, Oct 31         8890       706          174.0       101.0   \n",
       "21   Sat, Nov 1         8460       681          156.0        93.0   \n",
       "22   Sun, Nov 2         8836       693          206.0        67.0   \n",
       "\n",
       "    Pageviews_e  Clicks_e  Enrollments_e  Payments_e  Sign_gc  \n",
       "0          7716       686          105.0        34.0        1  \n",
       "1          9288       785          116.0        91.0        1  \n",
       "2         10480       884          145.0        79.0        1  \n",
       "3          9867       827          138.0        92.0        1  \n",
       "4          9793       832          140.0        94.0        1  \n",
       "5          9500       788          129.0        61.0        1  \n",
       "6          9088       780          127.0        44.0        1  \n",
       "7          7664       652           94.0        62.0        1  \n",
       "8          8434       697          120.0        77.0        1  \n",
       "9         10496       860          153.0        98.0        1  \n",
       "10        10551       864          143.0        71.0        1  \n",
       "11         9737       801          128.0        70.0        1  \n",
       "12         8176       642          122.0        68.0        1  \n",
       "13         9402       697          194.0        94.0        1  \n",
       "14         8669       669          127.0        81.0        1  \n",
       "15         8881       693          153.0       101.0        1  \n",
       "16         9655       771          213.0       119.0        1  \n",
       "17         9396       736          162.0       120.0        0  \n",
       "18         9262       727          201.0        96.0        0  \n",
       "19         9308       728          207.0        67.0        0  \n",
       "20         8715       722          182.0       123.0        0  \n",
       "21         8448       695          142.0       100.0        1  \n",
       "22         8836       724          182.0       103.0        1  "
      ]
     },
     "execution_count": 48,
     "metadata": {},
     "output_type": "execute_result"
    }
   ],
   "source": [
    "## Creating the signs for each row for Gross Conversion\n",
    "import numpy as np\n",
    "df_new = df_c.merge(df_e, on = 'Date', suffixes=('_c', '_e'))\n",
    "df_new = df_new[df_new['Enrollments_c'].isna() == False]\n",
    "gc_c = df_new['Enrollments_c']/df_new['Clicks_c']\n",
    "gc_e = df_new['Enrollments_e']/df_new['Clicks_e']\n",
    "df_new['Sign_gc'] = np.where(gc_e < gc_c, 1, 0)\n",
    "df_new"
   ]
  },
  {
   "cell_type": "code",
   "execution_count": 49,
   "metadata": {},
   "outputs": [
    {
     "data": {
      "text/html": [
       "<div>\n",
       "<style scoped>\n",
       "    .dataframe tbody tr th:only-of-type {\n",
       "        vertical-align: middle;\n",
       "    }\n",
       "\n",
       "    .dataframe tbody tr th {\n",
       "        vertical-align: top;\n",
       "    }\n",
       "\n",
       "    .dataframe thead th {\n",
       "        text-align: right;\n",
       "    }\n",
       "</style>\n",
       "<table border=\"1\" class=\"dataframe\">\n",
       "  <thead>\n",
       "    <tr style=\"text-align: right;\">\n",
       "      <th></th>\n",
       "      <th>Date</th>\n",
       "      <th>Pageviews_c</th>\n",
       "      <th>Clicks_c</th>\n",
       "      <th>Enrollments_c</th>\n",
       "      <th>Payments_c</th>\n",
       "      <th>Pageviews_e</th>\n",
       "      <th>Clicks_e</th>\n",
       "      <th>Enrollments_e</th>\n",
       "      <th>Payments_e</th>\n",
       "      <th>Sign_gc</th>\n",
       "      <th>Sign_nc</th>\n",
       "    </tr>\n",
       "  </thead>\n",
       "  <tbody>\n",
       "    <tr>\n",
       "      <th>0</th>\n",
       "      <td>Sat, Oct 11</td>\n",
       "      <td>7723</td>\n",
       "      <td>687</td>\n",
       "      <td>134.0</td>\n",
       "      <td>70.0</td>\n",
       "      <td>7716</td>\n",
       "      <td>686</td>\n",
       "      <td>105.0</td>\n",
       "      <td>34.0</td>\n",
       "      <td>1</td>\n",
       "      <td>1</td>\n",
       "    </tr>\n",
       "    <tr>\n",
       "      <th>1</th>\n",
       "      <td>Sun, Oct 12</td>\n",
       "      <td>9102</td>\n",
       "      <td>779</td>\n",
       "      <td>147.0</td>\n",
       "      <td>70.0</td>\n",
       "      <td>9288</td>\n",
       "      <td>785</td>\n",
       "      <td>116.0</td>\n",
       "      <td>91.0</td>\n",
       "      <td>1</td>\n",
       "      <td>0</td>\n",
       "    </tr>\n",
       "    <tr>\n",
       "      <th>2</th>\n",
       "      <td>Mon, Oct 13</td>\n",
       "      <td>10511</td>\n",
       "      <td>909</td>\n",
       "      <td>167.0</td>\n",
       "      <td>95.0</td>\n",
       "      <td>10480</td>\n",
       "      <td>884</td>\n",
       "      <td>145.0</td>\n",
       "      <td>79.0</td>\n",
       "      <td>1</td>\n",
       "      <td>1</td>\n",
       "    </tr>\n",
       "    <tr>\n",
       "      <th>3</th>\n",
       "      <td>Tue, Oct 14</td>\n",
       "      <td>9871</td>\n",
       "      <td>836</td>\n",
       "      <td>156.0</td>\n",
       "      <td>105.0</td>\n",
       "      <td>9867</td>\n",
       "      <td>827</td>\n",
       "      <td>138.0</td>\n",
       "      <td>92.0</td>\n",
       "      <td>1</td>\n",
       "      <td>1</td>\n",
       "    </tr>\n",
       "    <tr>\n",
       "      <th>4</th>\n",
       "      <td>Wed, Oct 15</td>\n",
       "      <td>10014</td>\n",
       "      <td>837</td>\n",
       "      <td>163.0</td>\n",
       "      <td>64.0</td>\n",
       "      <td>9793</td>\n",
       "      <td>832</td>\n",
       "      <td>140.0</td>\n",
       "      <td>94.0</td>\n",
       "      <td>1</td>\n",
       "      <td>0</td>\n",
       "    </tr>\n",
       "    <tr>\n",
       "      <th>5</th>\n",
       "      <td>Thu, Oct 16</td>\n",
       "      <td>9670</td>\n",
       "      <td>823</td>\n",
       "      <td>138.0</td>\n",
       "      <td>82.0</td>\n",
       "      <td>9500</td>\n",
       "      <td>788</td>\n",
       "      <td>129.0</td>\n",
       "      <td>61.0</td>\n",
       "      <td>1</td>\n",
       "      <td>1</td>\n",
       "    </tr>\n",
       "    <tr>\n",
       "      <th>6</th>\n",
       "      <td>Fri, Oct 17</td>\n",
       "      <td>9008</td>\n",
       "      <td>748</td>\n",
       "      <td>146.0</td>\n",
       "      <td>76.0</td>\n",
       "      <td>9088</td>\n",
       "      <td>780</td>\n",
       "      <td>127.0</td>\n",
       "      <td>44.0</td>\n",
       "      <td>1</td>\n",
       "      <td>1</td>\n",
       "    </tr>\n",
       "    <tr>\n",
       "      <th>7</th>\n",
       "      <td>Sat, Oct 18</td>\n",
       "      <td>7434</td>\n",
       "      <td>632</td>\n",
       "      <td>110.0</td>\n",
       "      <td>70.0</td>\n",
       "      <td>7664</td>\n",
       "      <td>652</td>\n",
       "      <td>94.0</td>\n",
       "      <td>62.0</td>\n",
       "      <td>1</td>\n",
       "      <td>1</td>\n",
       "    </tr>\n",
       "    <tr>\n",
       "      <th>8</th>\n",
       "      <td>Sun, Oct 19</td>\n",
       "      <td>8459</td>\n",
       "      <td>691</td>\n",
       "      <td>131.0</td>\n",
       "      <td>60.0</td>\n",
       "      <td>8434</td>\n",
       "      <td>697</td>\n",
       "      <td>120.0</td>\n",
       "      <td>77.0</td>\n",
       "      <td>1</td>\n",
       "      <td>0</td>\n",
       "    </tr>\n",
       "    <tr>\n",
       "      <th>9</th>\n",
       "      <td>Mon, Oct 20</td>\n",
       "      <td>10667</td>\n",
       "      <td>861</td>\n",
       "      <td>165.0</td>\n",
       "      <td>97.0</td>\n",
       "      <td>10496</td>\n",
       "      <td>860</td>\n",
       "      <td>153.0</td>\n",
       "      <td>98.0</td>\n",
       "      <td>1</td>\n",
       "      <td>0</td>\n",
       "    </tr>\n",
       "    <tr>\n",
       "      <th>10</th>\n",
       "      <td>Tue, Oct 21</td>\n",
       "      <td>10660</td>\n",
       "      <td>867</td>\n",
       "      <td>196.0</td>\n",
       "      <td>105.0</td>\n",
       "      <td>10551</td>\n",
       "      <td>864</td>\n",
       "      <td>143.0</td>\n",
       "      <td>71.0</td>\n",
       "      <td>1</td>\n",
       "      <td>1</td>\n",
       "    </tr>\n",
       "    <tr>\n",
       "      <th>11</th>\n",
       "      <td>Wed, Oct 22</td>\n",
       "      <td>9947</td>\n",
       "      <td>838</td>\n",
       "      <td>162.0</td>\n",
       "      <td>92.0</td>\n",
       "      <td>9737</td>\n",
       "      <td>801</td>\n",
       "      <td>128.0</td>\n",
       "      <td>70.0</td>\n",
       "      <td>1</td>\n",
       "      <td>1</td>\n",
       "    </tr>\n",
       "    <tr>\n",
       "      <th>12</th>\n",
       "      <td>Thu, Oct 23</td>\n",
       "      <td>8324</td>\n",
       "      <td>665</td>\n",
       "      <td>127.0</td>\n",
       "      <td>56.0</td>\n",
       "      <td>8176</td>\n",
       "      <td>642</td>\n",
       "      <td>122.0</td>\n",
       "      <td>68.0</td>\n",
       "      <td>1</td>\n",
       "      <td>0</td>\n",
       "    </tr>\n",
       "    <tr>\n",
       "      <th>13</th>\n",
       "      <td>Fri, Oct 24</td>\n",
       "      <td>9434</td>\n",
       "      <td>673</td>\n",
       "      <td>220.0</td>\n",
       "      <td>122.0</td>\n",
       "      <td>9402</td>\n",
       "      <td>697</td>\n",
       "      <td>194.0</td>\n",
       "      <td>94.0</td>\n",
       "      <td>1</td>\n",
       "      <td>1</td>\n",
       "    </tr>\n",
       "    <tr>\n",
       "      <th>14</th>\n",
       "      <td>Sat, Oct 25</td>\n",
       "      <td>8687</td>\n",
       "      <td>691</td>\n",
       "      <td>176.0</td>\n",
       "      <td>128.0</td>\n",
       "      <td>8669</td>\n",
       "      <td>669</td>\n",
       "      <td>127.0</td>\n",
       "      <td>81.0</td>\n",
       "      <td>1</td>\n",
       "      <td>1</td>\n",
       "    </tr>\n",
       "    <tr>\n",
       "      <th>15</th>\n",
       "      <td>Sun, Oct 26</td>\n",
       "      <td>8896</td>\n",
       "      <td>708</td>\n",
       "      <td>161.0</td>\n",
       "      <td>104.0</td>\n",
       "      <td>8881</td>\n",
       "      <td>693</td>\n",
       "      <td>153.0</td>\n",
       "      <td>101.0</td>\n",
       "      <td>1</td>\n",
       "      <td>1</td>\n",
       "    </tr>\n",
       "    <tr>\n",
       "      <th>16</th>\n",
       "      <td>Mon, Oct 27</td>\n",
       "      <td>9535</td>\n",
       "      <td>759</td>\n",
       "      <td>233.0</td>\n",
       "      <td>124.0</td>\n",
       "      <td>9655</td>\n",
       "      <td>771</td>\n",
       "      <td>213.0</td>\n",
       "      <td>119.0</td>\n",
       "      <td>1</td>\n",
       "      <td>1</td>\n",
       "    </tr>\n",
       "    <tr>\n",
       "      <th>17</th>\n",
       "      <td>Tue, Oct 28</td>\n",
       "      <td>9363</td>\n",
       "      <td>736</td>\n",
       "      <td>154.0</td>\n",
       "      <td>91.0</td>\n",
       "      <td>9396</td>\n",
       "      <td>736</td>\n",
       "      <td>162.0</td>\n",
       "      <td>120.0</td>\n",
       "      <td>0</td>\n",
       "      <td>0</td>\n",
       "    </tr>\n",
       "    <tr>\n",
       "      <th>18</th>\n",
       "      <td>Wed, Oct 29</td>\n",
       "      <td>9327</td>\n",
       "      <td>739</td>\n",
       "      <td>196.0</td>\n",
       "      <td>86.0</td>\n",
       "      <td>9262</td>\n",
       "      <td>727</td>\n",
       "      <td>201.0</td>\n",
       "      <td>96.0</td>\n",
       "      <td>0</td>\n",
       "      <td>0</td>\n",
       "    </tr>\n",
       "    <tr>\n",
       "      <th>19</th>\n",
       "      <td>Thu, Oct 30</td>\n",
       "      <td>9345</td>\n",
       "      <td>734</td>\n",
       "      <td>167.0</td>\n",
       "      <td>75.0</td>\n",
       "      <td>9308</td>\n",
       "      <td>728</td>\n",
       "      <td>207.0</td>\n",
       "      <td>67.0</td>\n",
       "      <td>0</td>\n",
       "      <td>1</td>\n",
       "    </tr>\n",
       "    <tr>\n",
       "      <th>20</th>\n",
       "      <td>Fri, Oct 31</td>\n",
       "      <td>8890</td>\n",
       "      <td>706</td>\n",
       "      <td>174.0</td>\n",
       "      <td>101.0</td>\n",
       "      <td>8715</td>\n",
       "      <td>722</td>\n",
       "      <td>182.0</td>\n",
       "      <td>123.0</td>\n",
       "      <td>0</td>\n",
       "      <td>0</td>\n",
       "    </tr>\n",
       "    <tr>\n",
       "      <th>21</th>\n",
       "      <td>Sat, Nov 1</td>\n",
       "      <td>8460</td>\n",
       "      <td>681</td>\n",
       "      <td>156.0</td>\n",
       "      <td>93.0</td>\n",
       "      <td>8448</td>\n",
       "      <td>695</td>\n",
       "      <td>142.0</td>\n",
       "      <td>100.0</td>\n",
       "      <td>1</td>\n",
       "      <td>0</td>\n",
       "    </tr>\n",
       "    <tr>\n",
       "      <th>22</th>\n",
       "      <td>Sun, Nov 2</td>\n",
       "      <td>8836</td>\n",
       "      <td>693</td>\n",
       "      <td>206.0</td>\n",
       "      <td>67.0</td>\n",
       "      <td>8836</td>\n",
       "      <td>724</td>\n",
       "      <td>182.0</td>\n",
       "      <td>103.0</td>\n",
       "      <td>1</td>\n",
       "      <td>0</td>\n",
       "    </tr>\n",
       "  </tbody>\n",
       "</table>\n",
       "</div>"
      ],
      "text/plain": [
       "           Date  Pageviews_c  Clicks_c  Enrollments_c  Payments_c  \\\n",
       "0   Sat, Oct 11         7723       687          134.0        70.0   \n",
       "1   Sun, Oct 12         9102       779          147.0        70.0   \n",
       "2   Mon, Oct 13        10511       909          167.0        95.0   \n",
       "3   Tue, Oct 14         9871       836          156.0       105.0   \n",
       "4   Wed, Oct 15        10014       837          163.0        64.0   \n",
       "5   Thu, Oct 16         9670       823          138.0        82.0   \n",
       "6   Fri, Oct 17         9008       748          146.0        76.0   \n",
       "7   Sat, Oct 18         7434       632          110.0        70.0   \n",
       "8   Sun, Oct 19         8459       691          131.0        60.0   \n",
       "9   Mon, Oct 20        10667       861          165.0        97.0   \n",
       "10  Tue, Oct 21        10660       867          196.0       105.0   \n",
       "11  Wed, Oct 22         9947       838          162.0        92.0   \n",
       "12  Thu, Oct 23         8324       665          127.0        56.0   \n",
       "13  Fri, Oct 24         9434       673          220.0       122.0   \n",
       "14  Sat, Oct 25         8687       691          176.0       128.0   \n",
       "15  Sun, Oct 26         8896       708          161.0       104.0   \n",
       "16  Mon, Oct 27         9535       759          233.0       124.0   \n",
       "17  Tue, Oct 28         9363       736          154.0        91.0   \n",
       "18  Wed, Oct 29         9327       739          196.0        86.0   \n",
       "19  Thu, Oct 30         9345       734          167.0        75.0   \n",
       "20  Fri, Oct 31         8890       706          174.0       101.0   \n",
       "21   Sat, Nov 1         8460       681          156.0        93.0   \n",
       "22   Sun, Nov 2         8836       693          206.0        67.0   \n",
       "\n",
       "    Pageviews_e  Clicks_e  Enrollments_e  Payments_e  Sign_gc  Sign_nc  \n",
       "0          7716       686          105.0        34.0        1        1  \n",
       "1          9288       785          116.0        91.0        1        0  \n",
       "2         10480       884          145.0        79.0        1        1  \n",
       "3          9867       827          138.0        92.0        1        1  \n",
       "4          9793       832          140.0        94.0        1        0  \n",
       "5          9500       788          129.0        61.0        1        1  \n",
       "6          9088       780          127.0        44.0        1        1  \n",
       "7          7664       652           94.0        62.0        1        1  \n",
       "8          8434       697          120.0        77.0        1        0  \n",
       "9         10496       860          153.0        98.0        1        0  \n",
       "10        10551       864          143.0        71.0        1        1  \n",
       "11         9737       801          128.0        70.0        1        1  \n",
       "12         8176       642          122.0        68.0        1        0  \n",
       "13         9402       697          194.0        94.0        1        1  \n",
       "14         8669       669          127.0        81.0        1        1  \n",
       "15         8881       693          153.0       101.0        1        1  \n",
       "16         9655       771          213.0       119.0        1        1  \n",
       "17         9396       736          162.0       120.0        0        0  \n",
       "18         9262       727          201.0        96.0        0        0  \n",
       "19         9308       728          207.0        67.0        0        1  \n",
       "20         8715       722          182.0       123.0        0        0  \n",
       "21         8448       695          142.0       100.0        1        0  \n",
       "22         8836       724          182.0       103.0        1        0  "
      ]
     },
     "execution_count": 49,
     "metadata": {},
     "output_type": "execute_result"
    }
   ],
   "source": [
    "nc_c = df_new['Payments_c']/df_new['Clicks_c']\n",
    "nc_e = df_new['Payments_e']/df_new['Clicks_e']\n",
    "df_new['Sign_nc'] = np.where(nc_e < nc_c, 1, 0)\n",
    "df_new"
   ]
  },
  {
   "cell_type": "code",
   "execution_count": 53,
   "metadata": {},
   "outputs": [
    {
     "name": "stdout",
     "output_type": "stream",
     "text": [
      "number of gc in experiment lower than the one in control is 19 out of of 23\n",
      "number of nc in experiment lower than the one in control is 13 out of of 23\n"
     ]
    }
   ],
   "source": [
    "df_new.shape[0]\n",
    "sign_p_gc = df_new[df_new['Sign_gc'] == 1].shape[0]\n",
    "sign_p_nc = df_new[df_new['Sign_nc'] == 1].shape[0]\n",
    "print('number of gc in experiment lower than the one in control is '+ str(sign_p_gc) + ' out of of ' + str(df_new.shape[0]))\n",
    "print('number of nc in experiment lower than the one in control is '+ str(sign_p_nc) + ' out of of ' + str(df_new.shape[0]))"
   ]
  },
  {
   "cell_type": "markdown",
   "metadata": {},
   "source": [
    "### Sign Test Design"
   ]
  },
  {
   "cell_type": "markdown",
   "metadata": {},
   "source": [
    "The Sign Test uses the number of positive or negative signs to determine whether the difference is based on evidence or simply happens by chance. Assuming the chance of sign == 1 is 50%, and the sign follows a binomial distribution. We can then use the binomail distribution formula to calculate the p value through probabilites of successes to further determine whether the difference is significant. \n",
    "\n",
    "Here we use a two tailed test becuase we want to determine if there is any difference between the groups which should covers the possibility of both positibve and negative differences. One tailed test, on the other hand, only determines the difference in a specific direction. In our case, we are not competely unsterested in the outcome that experiment group being higher than control group. "
   ]
  },
  {
   "cell_type": "code",
   "execution_count": 63,
   "metadata": {},
   "outputs": [],
   "source": [
    "def pvalue(x, n):\n",
    "    \"\"\"\n",
    "    Takes inputs number of successes and sample size \n",
    "    outputs the two talied p value \n",
    "    \"\"\"\n",
    "    p = 0\n",
    "    for i in range(23, x-1, -1):\n",
    "        p += math.factorial(n)/(math.factorial(i)*math.factorial(n-i)) * 0.5**i * (1-0.5)**(n-i)\n",
    "    p_value = 2 * p\n",
    "    return p_value"
   ]
  },
  {
   "cell_type": "code",
   "execution_count": 64,
   "metadata": {},
   "outputs": [
    {
     "data": {
      "text/plain": [
       "0.002599477767944336"
      ]
     },
     "execution_count": 64,
     "metadata": {},
     "output_type": "execute_result"
    }
   ],
   "source": [
    "pvalue(19, 23) # p value for gc"
   ]
  },
  {
   "cell_type": "code",
   "execution_count": 65,
   "metadata": {},
   "outputs": [
    {
     "data": {
      "text/plain": [
       "0.6776394844055176"
      ]
     },
     "execution_count": 65,
     "metadata": {},
     "output_type": "execute_result"
    }
   ],
   "source": [
    "pvalue(13,23) # p value for nc"
   ]
  },
  {
   "cell_type": "markdown",
   "metadata": {},
   "source": [
    "As a results, p value for gc is lower 0.05, therefore the difference is significant. But net conversion is not the case. "
   ]
  },
  {
   "cell_type": "markdown",
   "metadata": {},
   "source": [
    "## Recommendation \n",
    "\n",
    "Going back to our goal, Udacity wans to find out whether the change would reduce the number of student who do not have enough time so that the overall student learning experience will be improved without significantly reducing the number of students who end of purchase the course. The AB test shows that the drease in gross conversion is both statistically and practically significant; Net Conversion does not show a significant difference. Thus, we see less students enrolled in the free trail without a significant decrease in the number of students who ended up purchasing the course. The goal is then achieved by the change, and I would recommend to launch the change. "
   ]
  }
 ],
 "metadata": {
  "kernelspec": {
   "display_name": "Python 3",
   "language": "python",
   "name": "python3"
  },
  "language_info": {
   "codemirror_mode": {
    "name": "ipython",
    "version": 3
   },
   "file_extension": ".py",
   "mimetype": "text/x-python",
   "name": "python",
   "nbconvert_exporter": "python",
   "pygments_lexer": "ipython3",
   "version": "3.7.5"
  }
 },
 "nbformat": 4,
 "nbformat_minor": 2
}
